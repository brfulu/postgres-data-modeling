{
 "cells": [
  {
   "cell_type": "markdown",
   "metadata": {},
   "source": [
    "# ETL Processes\n",
    "Use this notebook to develop the ETL process for each of your tables before completing the `etl.py` file to load the whole datasets."
   ]
  },
  {
   "cell_type": "code",
   "execution_count": 1,
   "metadata": {
    "pycharm": {
     "is_executing": true
    }
   },
   "outputs": [],
   "source": [
    "import os\n",
    "import glob\n",
    "import psycopg2\n",
    "import pandas as pd\n",
    "from scripts.sql_queries import *"
   ]
  },
  {
   "cell_type": "code",
   "execution_count": 2,
   "metadata": {
    "pycharm": {
     "is_executing": true
    }
   },
   "outputs": [],
   "source": [
    "conn = psycopg2.connect(\"host=127.0.0.1 dbname=sparkifydb user=student password=student\")\n",
    "cur = conn.cursor()"
   ]
  },
  {
   "cell_type": "code",
   "execution_count": 3,
   "metadata": {
    "pycharm": {
     "is_executing": true
    }
   },
   "outputs": [],
   "source": [
    "def get_files(filepath):\n",
    "    print(filepath)\n",
    "    all_files = []\n",
    "    for root, dirs, files in os.walk(filepath):\n",
    "        files = glob.glob(os.path.join(root,'*.json'))\n",
    "        for f in files :\n",
    "            all_files.append(os.path.abspath(f))\n",
    "    \n",
    "    return all_files"
   ]
  },
  {
   "cell_type": "markdown",
   "metadata": {},
   "source": [
    "# Process `song_data`\n",
    "In this first part, you'll perform ETL on the first dataset, `song_data`, to create the `songs` and `artists` dimensional tables.\n",
    "\n",
    "Let's perform ETL on a single song file and load a single record into each table to start.\n",
    "- Use the `get_files` function provided above to get a list of all song JSON files in `data/song_data`\n",
    "- Select the first song in this list\n",
    "- Read the song file and view the data"
   ]
  },
  {
   "cell_type": "code",
   "execution_count": 4,
   "metadata": {
    "pycharm": {
     "is_executing": true
    }
   },
   "outputs": [
    {
     "name": "stdout",
     "output_type": "stream",
     "text": [
      "../../data/song_data\n"
     ]
    }
   ],
   "source": [
    "song_files = get_files('../../data/song_data')"
   ]
  },
  {
   "cell_type": "code",
   "execution_count": 5,
   "metadata": {
    "pycharm": {
     "is_executing": true
    }
   },
   "outputs": [],
   "source": [
    "filepath = '/home/fulu/code/postgres-data-modeling/data/song_data/A/A/A/TRAAARJ128F9320760.json'"
   ]
  },
  {
   "cell_type": "code",
   "execution_count": 6,
   "metadata": {
    "pycharm": {
     "is_executing": true
    }
   },
   "outputs": [
    {
     "data": {
      "text/html": [
       "<div>\n",
       "<style scoped>\n",
       "    .dataframe tbody tr th:only-of-type {\n",
       "        vertical-align: middle;\n",
       "    }\n",
       "\n",
       "    .dataframe tbody tr th {\n",
       "        vertical-align: top;\n",
       "    }\n",
       "\n",
       "    .dataframe thead th {\n",
       "        text-align: right;\n",
       "    }\n",
       "</style>\n",
       "<table border=\"1\" class=\"dataframe\">\n",
       "  <thead>\n",
       "    <tr style=\"text-align: right;\">\n",
       "      <th></th>\n",
       "      <th>num_songs</th>\n",
       "      <th>artist_id</th>\n",
       "      <th>artist_latitude</th>\n",
       "      <th>artist_longitude</th>\n",
       "      <th>artist_location</th>\n",
       "      <th>artist_name</th>\n",
       "      <th>song_id</th>\n",
       "      <th>title</th>\n",
       "      <th>duration</th>\n",
       "      <th>year</th>\n",
       "    </tr>\n",
       "  </thead>\n",
       "  <tbody>\n",
       "    <tr>\n",
       "      <th>0</th>\n",
       "      <td>1</td>\n",
       "      <td>AR8ZCNI1187B9A069B</td>\n",
       "      <td>NaN</td>\n",
       "      <td>NaN</td>\n",
       "      <td></td>\n",
       "      <td>Planet P Project</td>\n",
       "      <td>SOIAZJW12AB01853F1</td>\n",
       "      <td>Pink World</td>\n",
       "      <td>269.81832</td>\n",
       "      <td>1984</td>\n",
       "    </tr>\n",
       "  </tbody>\n",
       "</table>\n",
       "</div>"
      ],
      "text/plain": [
       "   num_songs           artist_id  artist_latitude  artist_longitude  \\\n",
       "0          1  AR8ZCNI1187B9A069B              NaN               NaN   \n",
       "\n",
       "  artist_location       artist_name             song_id       title  \\\n",
       "0                  Planet P Project  SOIAZJW12AB01853F1  Pink World   \n",
       "\n",
       "    duration  year  \n",
       "0  269.81832  1984  "
      ]
     },
     "execution_count": 6,
     "metadata": {},
     "output_type": "execute_result"
    }
   ],
   "source": [
    "df = pd.read_json(filepath, lines=True)\n",
    "df.head()"
   ]
  },
  {
   "cell_type": "markdown",
   "metadata": {},
   "source": [
    "## #1: `songs` Table\n",
    "#### Extract Data for Songs Table\n",
    "- Select columns for song ID, title, artist ID, year, and duration\n",
    "- Use `df.values` to select just the values from the dataframe\n",
    "- Index to select the first (only) record in the dataframe\n",
    "- Convert the array to a list and set it to `song_data`"
   ]
  },
  {
   "cell_type": "code",
   "execution_count": 7,
   "metadata": {
    "pycharm": {
     "is_executing": true
    }
   },
   "outputs": [
    {
     "data": {
      "text/plain": [
       "('SOIAZJW12AB01853F1', 'Pink World', 'AR8ZCNI1187B9A069B', 1984, 270.0)"
      ]
     },
     "execution_count": 7,
     "metadata": {},
     "output_type": "execute_result"
    }
   ],
   "source": [
    "# Round the duration to the closest second\n",
    "df['duration'] = round(df['duration'])\n",
    "\n",
    "song_data = df[['song_id', 'title', 'artist_id', 'year', 'duration']]\n",
    "song_data = tuple(song_data.values[0])\n",
    "song_data"
   ]
  },
  {
   "cell_type": "markdown",
   "metadata": {},
   "source": [
    "#### Insert Record into Song Table\n",
    "Implement the `song_table_insert` query in `sql_queries.py` and run the cell below to insert a record for this song into the `songs` table. Remember to run `create_tables.py` before running the cell below to ensure you've created/resetted the `songs` table in the sparkify database."
   ]
  },
  {
   "cell_type": "code",
   "execution_count": 8,
   "metadata": {
    "pycharm": {
     "is_executing": true
    }
   },
   "outputs": [],
   "source": [
    "cur.execute(song_table_insert, song_data)\n",
    "conn.commit()"
   ]
  },
  {
   "cell_type": "markdown",
   "metadata": {},
   "source": [
    "Run `test.ipynb` to see if you've successfully added a record to this table."
   ]
  },
  {
   "cell_type": "markdown",
   "metadata": {},
   "source": [
    "## #2: `artists` Table\n",
    "#### Extract Data for Artists Table\n",
    "- Select columns for artist ID, name, location, latitude, and longitude\n",
    "- Use `df.values` to select just the values from the dataframe\n",
    "- Index to select the first (only) record in the dataframe\n",
    "- Convert the array to a list and set it to `artist_data`"
   ]
  },
  {
   "cell_type": "code",
   "execution_count": 9,
   "metadata": {
    "pycharm": {
     "is_executing": true
    }
   },
   "outputs": [
    {
     "data": {
      "text/plain": [
       "('AR8ZCNI1187B9A069B', 'Planet P Project', '', nan, nan)"
      ]
     },
     "execution_count": 9,
     "metadata": {},
     "output_type": "execute_result"
    }
   ],
   "source": [
    "artist_data = df[['artist_id', 'artist_name', 'artist_location', 'artist_latitude', 'artist_longitude']]\n",
    "artist_data = tuple(artist_data.values[0])\n",
    "artist_data"
   ]
  },
  {
   "cell_type": "markdown",
   "metadata": {},
   "source": [
    "#### Insert Record into Artist Table\n",
    "Implement the `artist_table_insert` query in `sql_queries.py` and run the cell below to insert a record for this song's artist into the `artists` table. Remember to run `create_tables.py` before running the cell below to ensure you've created/resetted the `artists` table in the sparkify database."
   ]
  },
  {
   "cell_type": "code",
   "execution_count": 10,
   "metadata": {
    "pycharm": {
     "is_executing": true
    }
   },
   "outputs": [],
   "source": [
    "cur.execute(artist_table_insert, artist_data)\n",
    "conn.commit()"
   ]
  },
  {
   "cell_type": "markdown",
   "metadata": {},
   "source": [
    "Run `test.ipynb` to see if you've successfully added a record to this table."
   ]
  },
  {
   "cell_type": "markdown",
   "metadata": {},
   "source": [
    "# Process `log_data`\n",
    "In this part, you'll perform ETL on the second dataset, `log_data`, to create the `time` and `users` dimensional tables, as well as the `songplays` fact table.\n",
    "\n",
    "Let's perform ETL on a single log file and load a single record into each table.\n",
    "- Use the `get_files` function provided above to get a list of all log JSON files in `data/log_data`\n",
    "- Select the first log file in this list\n",
    "- Read the log file and view the data"
   ]
  },
  {
   "cell_type": "code",
   "execution_count": 11,
   "metadata": {
    "pycharm": {
     "is_executing": true
    }
   },
   "outputs": [
    {
     "name": "stdout",
     "output_type": "stream",
     "text": [
      "../../data/log_data\n"
     ]
    }
   ],
   "source": [
    "log_files = get_files('../../data/log_data')"
   ]
  },
  {
   "cell_type": "code",
   "execution_count": 12,
   "metadata": {
    "pycharm": {
     "is_executing": true
    }
   },
   "outputs": [],
   "source": [
    "filepath = '/home/fulu/code/postgres-data-modeling/data/log_data/2018/11/2018-11-07-events.json'"
   ]
  },
  {
   "cell_type": "code",
   "execution_count": 13,
   "metadata": {
    "pycharm": {
     "is_executing": true
    }
   },
   "outputs": [
    {
     "data": {
      "text/html": [
       "<div>\n",
       "<style scoped>\n",
       "    .dataframe tbody tr th:only-of-type {\n",
       "        vertical-align: middle;\n",
       "    }\n",
       "\n",
       "    .dataframe tbody tr th {\n",
       "        vertical-align: top;\n",
       "    }\n",
       "\n",
       "    .dataframe thead th {\n",
       "        text-align: right;\n",
       "    }\n",
       "</style>\n",
       "<table border=\"1\" class=\"dataframe\">\n",
       "  <thead>\n",
       "    <tr style=\"text-align: right;\">\n",
       "      <th></th>\n",
       "      <th>artist</th>\n",
       "      <th>auth</th>\n",
       "      <th>firstName</th>\n",
       "      <th>gender</th>\n",
       "      <th>itemInSession</th>\n",
       "      <th>lastName</th>\n",
       "      <th>length</th>\n",
       "      <th>level</th>\n",
       "      <th>location</th>\n",
       "      <th>method</th>\n",
       "      <th>page</th>\n",
       "      <th>registration</th>\n",
       "      <th>sessionId</th>\n",
       "      <th>song</th>\n",
       "      <th>status</th>\n",
       "      <th>ts</th>\n",
       "      <th>userAgent</th>\n",
       "      <th>userId</th>\n",
       "    </tr>\n",
       "  </thead>\n",
       "  <tbody>\n",
       "    <tr>\n",
       "      <th>0</th>\n",
       "      <td>Miami Horror</td>\n",
       "      <td>Logged In</td>\n",
       "      <td>Kate</td>\n",
       "      <td>F</td>\n",
       "      <td>88</td>\n",
       "      <td>Harrell</td>\n",
       "      <td>250.82730</td>\n",
       "      <td>paid</td>\n",
       "      <td>Lansing-East Lansing, MI</td>\n",
       "      <td>PUT</td>\n",
       "      <td>NextSong</td>\n",
       "      <td>1.540473e+12</td>\n",
       "      <td>293</td>\n",
       "      <td>Sometimes</td>\n",
       "      <td>200</td>\n",
       "      <td>1541548876796</td>\n",
       "      <td>\"Mozilla/5.0 (X11; Linux x86_64) AppleWebKit/5...</td>\n",
       "      <td>97</td>\n",
       "    </tr>\n",
       "    <tr>\n",
       "      <th>1</th>\n",
       "      <td>The White Stripes</td>\n",
       "      <td>Logged In</td>\n",
       "      <td>Kate</td>\n",
       "      <td>F</td>\n",
       "      <td>89</td>\n",
       "      <td>Harrell</td>\n",
       "      <td>241.86730</td>\n",
       "      <td>paid</td>\n",
       "      <td>Lansing-East Lansing, MI</td>\n",
       "      <td>PUT</td>\n",
       "      <td>NextSong</td>\n",
       "      <td>1.540473e+12</td>\n",
       "      <td>293</td>\n",
       "      <td>My Doorbell (Album Version)</td>\n",
       "      <td>200</td>\n",
       "      <td>1541549126796</td>\n",
       "      <td>\"Mozilla/5.0 (X11; Linux x86_64) AppleWebKit/5...</td>\n",
       "      <td>97</td>\n",
       "    </tr>\n",
       "    <tr>\n",
       "      <th>2</th>\n",
       "      <td>Juan Carmona</td>\n",
       "      <td>Logged In</td>\n",
       "      <td>Kate</td>\n",
       "      <td>F</td>\n",
       "      <td>90</td>\n",
       "      <td>Harrell</td>\n",
       "      <td>331.44118</td>\n",
       "      <td>paid</td>\n",
       "      <td>Lansing-East Lansing, MI</td>\n",
       "      <td>PUT</td>\n",
       "      <td>NextSong</td>\n",
       "      <td>1.540473e+12</td>\n",
       "      <td>293</td>\n",
       "      <td>Panales de Algodon</td>\n",
       "      <td>200</td>\n",
       "      <td>1541549367796</td>\n",
       "      <td>\"Mozilla/5.0 (X11; Linux x86_64) AppleWebKit/5...</td>\n",
       "      <td>97</td>\n",
       "    </tr>\n",
       "    <tr>\n",
       "      <th>3</th>\n",
       "      <td>Alison Krauss / Union Station</td>\n",
       "      <td>Logged In</td>\n",
       "      <td>Kate</td>\n",
       "      <td>F</td>\n",
       "      <td>91</td>\n",
       "      <td>Harrell</td>\n",
       "      <td>171.04934</td>\n",
       "      <td>paid</td>\n",
       "      <td>Lansing-East Lansing, MI</td>\n",
       "      <td>PUT</td>\n",
       "      <td>NextSong</td>\n",
       "      <td>1.540473e+12</td>\n",
       "      <td>293</td>\n",
       "      <td>Restless</td>\n",
       "      <td>200</td>\n",
       "      <td>1541549698796</td>\n",
       "      <td>\"Mozilla/5.0 (X11; Linux x86_64) AppleWebKit/5...</td>\n",
       "      <td>97</td>\n",
       "    </tr>\n",
       "    <tr>\n",
       "      <th>4</th>\n",
       "      <td>Bullet For My Valentine</td>\n",
       "      <td>Logged In</td>\n",
       "      <td>Kate</td>\n",
       "      <td>F</td>\n",
       "      <td>92</td>\n",
       "      <td>Harrell</td>\n",
       "      <td>235.65016</td>\n",
       "      <td>paid</td>\n",
       "      <td>Lansing-East Lansing, MI</td>\n",
       "      <td>PUT</td>\n",
       "      <td>NextSong</td>\n",
       "      <td>1.540473e+12</td>\n",
       "      <td>293</td>\n",
       "      <td>Begging For Mercy</td>\n",
       "      <td>200</td>\n",
       "      <td>1541549869796</td>\n",
       "      <td>\"Mozilla/5.0 (X11; Linux x86_64) AppleWebKit/5...</td>\n",
       "      <td>97</td>\n",
       "    </tr>\n",
       "  </tbody>\n",
       "</table>\n",
       "</div>"
      ],
      "text/plain": [
       "                          artist       auth firstName gender  itemInSession  \\\n",
       "0                   Miami Horror  Logged In      Kate      F             88   \n",
       "1              The White Stripes  Logged In      Kate      F             89   \n",
       "2                   Juan Carmona  Logged In      Kate      F             90   \n",
       "3  Alison Krauss / Union Station  Logged In      Kate      F             91   \n",
       "4        Bullet For My Valentine  Logged In      Kate      F             92   \n",
       "\n",
       "  lastName     length level                  location method      page  \\\n",
       "0  Harrell  250.82730  paid  Lansing-East Lansing, MI    PUT  NextSong   \n",
       "1  Harrell  241.86730  paid  Lansing-East Lansing, MI    PUT  NextSong   \n",
       "2  Harrell  331.44118  paid  Lansing-East Lansing, MI    PUT  NextSong   \n",
       "3  Harrell  171.04934  paid  Lansing-East Lansing, MI    PUT  NextSong   \n",
       "4  Harrell  235.65016  paid  Lansing-East Lansing, MI    PUT  NextSong   \n",
       "\n",
       "   registration  sessionId                         song  status  \\\n",
       "0  1.540473e+12        293                    Sometimes     200   \n",
       "1  1.540473e+12        293  My Doorbell (Album Version)     200   \n",
       "2  1.540473e+12        293           Panales de Algodon     200   \n",
       "3  1.540473e+12        293                     Restless     200   \n",
       "4  1.540473e+12        293            Begging For Mercy     200   \n",
       "\n",
       "              ts                                          userAgent userId  \n",
       "0  1541548876796  \"Mozilla/5.0 (X11; Linux x86_64) AppleWebKit/5...     97  \n",
       "1  1541549126796  \"Mozilla/5.0 (X11; Linux x86_64) AppleWebKit/5...     97  \n",
       "2  1541549367796  \"Mozilla/5.0 (X11; Linux x86_64) AppleWebKit/5...     97  \n",
       "3  1541549698796  \"Mozilla/5.0 (X11; Linux x86_64) AppleWebKit/5...     97  \n",
       "4  1541549869796  \"Mozilla/5.0 (X11; Linux x86_64) AppleWebKit/5...     97  "
      ]
     },
     "execution_count": 13,
     "metadata": {},
     "output_type": "execute_result"
    }
   ],
   "source": [
    "df = pd.read_json(filepath, lines=True)\n",
    "df.head()"
   ]
  },
  {
   "cell_type": "markdown",
   "metadata": {},
   "source": [
    "## #3: `time` Table\n",
    "#### Extract Data for Time Table\n",
    "- Filter records by `NextSong` action\n",
    "- Convert the `ts` timestamp column to datetime\n",
    "  - Hint: the current timestamp is in milliseconds\n",
    "- Extract the timestamp, hour, day, week of year, month, year, and weekday from the `ts` column and set `time_data` to a list containing these values in order\n",
    "  - Hint: use pandas' [`dt` attribute](https://pandas.pydata.org/pandas-docs/stable/reference/api/pandas.Series.dt.html) to access easily datetimelike properties.\n",
    "- Specify labels for these columns and set to `column_labels`\n",
    "- Create a dataframe, `time_df,` containing the time data for this file by combining `column_labels` and `time_data` into a dictionary and converting this into a dataframe"
   ]
  },
  {
   "cell_type": "code",
   "execution_count": 14,
   "metadata": {
    "pycharm": {
     "is_executing": true
    }
   },
   "outputs": [
    {
     "data": {
      "text/html": [
       "<div>\n",
       "<style scoped>\n",
       "    .dataframe tbody tr th:only-of-type {\n",
       "        vertical-align: middle;\n",
       "    }\n",
       "\n",
       "    .dataframe tbody tr th {\n",
       "        vertical-align: top;\n",
       "    }\n",
       "\n",
       "    .dataframe thead th {\n",
       "        text-align: right;\n",
       "    }\n",
       "</style>\n",
       "<table border=\"1\" class=\"dataframe\">\n",
       "  <thead>\n",
       "    <tr style=\"text-align: right;\">\n",
       "      <th></th>\n",
       "      <th>artist</th>\n",
       "      <th>auth</th>\n",
       "      <th>firstName</th>\n",
       "      <th>gender</th>\n",
       "      <th>itemInSession</th>\n",
       "      <th>lastName</th>\n",
       "      <th>length</th>\n",
       "      <th>level</th>\n",
       "      <th>location</th>\n",
       "      <th>method</th>\n",
       "      <th>page</th>\n",
       "      <th>registration</th>\n",
       "      <th>sessionId</th>\n",
       "      <th>song</th>\n",
       "      <th>status</th>\n",
       "      <th>ts</th>\n",
       "      <th>userAgent</th>\n",
       "      <th>userId</th>\n",
       "    </tr>\n",
       "  </thead>\n",
       "  <tbody>\n",
       "    <tr>\n",
       "      <th>0</th>\n",
       "      <td>Miami Horror</td>\n",
       "      <td>Logged In</td>\n",
       "      <td>Kate</td>\n",
       "      <td>F</td>\n",
       "      <td>88</td>\n",
       "      <td>Harrell</td>\n",
       "      <td>250.82730</td>\n",
       "      <td>paid</td>\n",
       "      <td>Lansing-East Lansing, MI</td>\n",
       "      <td>PUT</td>\n",
       "      <td>NextSong</td>\n",
       "      <td>1.540473e+12</td>\n",
       "      <td>293</td>\n",
       "      <td>Sometimes</td>\n",
       "      <td>200</td>\n",
       "      <td>1541548876796</td>\n",
       "      <td>\"Mozilla/5.0 (X11; Linux x86_64) AppleWebKit/5...</td>\n",
       "      <td>97</td>\n",
       "    </tr>\n",
       "    <tr>\n",
       "      <th>1</th>\n",
       "      <td>The White Stripes</td>\n",
       "      <td>Logged In</td>\n",
       "      <td>Kate</td>\n",
       "      <td>F</td>\n",
       "      <td>89</td>\n",
       "      <td>Harrell</td>\n",
       "      <td>241.86730</td>\n",
       "      <td>paid</td>\n",
       "      <td>Lansing-East Lansing, MI</td>\n",
       "      <td>PUT</td>\n",
       "      <td>NextSong</td>\n",
       "      <td>1.540473e+12</td>\n",
       "      <td>293</td>\n",
       "      <td>My Doorbell (Album Version)</td>\n",
       "      <td>200</td>\n",
       "      <td>1541549126796</td>\n",
       "      <td>\"Mozilla/5.0 (X11; Linux x86_64) AppleWebKit/5...</td>\n",
       "      <td>97</td>\n",
       "    </tr>\n",
       "    <tr>\n",
       "      <th>2</th>\n",
       "      <td>Juan Carmona</td>\n",
       "      <td>Logged In</td>\n",
       "      <td>Kate</td>\n",
       "      <td>F</td>\n",
       "      <td>90</td>\n",
       "      <td>Harrell</td>\n",
       "      <td>331.44118</td>\n",
       "      <td>paid</td>\n",
       "      <td>Lansing-East Lansing, MI</td>\n",
       "      <td>PUT</td>\n",
       "      <td>NextSong</td>\n",
       "      <td>1.540473e+12</td>\n",
       "      <td>293</td>\n",
       "      <td>Panales de Algodon</td>\n",
       "      <td>200</td>\n",
       "      <td>1541549367796</td>\n",
       "      <td>\"Mozilla/5.0 (X11; Linux x86_64) AppleWebKit/5...</td>\n",
       "      <td>97</td>\n",
       "    </tr>\n",
       "    <tr>\n",
       "      <th>3</th>\n",
       "      <td>Alison Krauss / Union Station</td>\n",
       "      <td>Logged In</td>\n",
       "      <td>Kate</td>\n",
       "      <td>F</td>\n",
       "      <td>91</td>\n",
       "      <td>Harrell</td>\n",
       "      <td>171.04934</td>\n",
       "      <td>paid</td>\n",
       "      <td>Lansing-East Lansing, MI</td>\n",
       "      <td>PUT</td>\n",
       "      <td>NextSong</td>\n",
       "      <td>1.540473e+12</td>\n",
       "      <td>293</td>\n",
       "      <td>Restless</td>\n",
       "      <td>200</td>\n",
       "      <td>1541549698796</td>\n",
       "      <td>\"Mozilla/5.0 (X11; Linux x86_64) AppleWebKit/5...</td>\n",
       "      <td>97</td>\n",
       "    </tr>\n",
       "    <tr>\n",
       "      <th>4</th>\n",
       "      <td>Bullet For My Valentine</td>\n",
       "      <td>Logged In</td>\n",
       "      <td>Kate</td>\n",
       "      <td>F</td>\n",
       "      <td>92</td>\n",
       "      <td>Harrell</td>\n",
       "      <td>235.65016</td>\n",
       "      <td>paid</td>\n",
       "      <td>Lansing-East Lansing, MI</td>\n",
       "      <td>PUT</td>\n",
       "      <td>NextSong</td>\n",
       "      <td>1.540473e+12</td>\n",
       "      <td>293</td>\n",
       "      <td>Begging For Mercy</td>\n",
       "      <td>200</td>\n",
       "      <td>1541549869796</td>\n",
       "      <td>\"Mozilla/5.0 (X11; Linux x86_64) AppleWebKit/5...</td>\n",
       "      <td>97</td>\n",
       "    </tr>\n",
       "  </tbody>\n",
       "</table>\n",
       "</div>"
      ],
      "text/plain": [
       "                          artist       auth firstName gender  itemInSession  \\\n",
       "0                   Miami Horror  Logged In      Kate      F             88   \n",
       "1              The White Stripes  Logged In      Kate      F             89   \n",
       "2                   Juan Carmona  Logged In      Kate      F             90   \n",
       "3  Alison Krauss / Union Station  Logged In      Kate      F             91   \n",
       "4        Bullet For My Valentine  Logged In      Kate      F             92   \n",
       "\n",
       "  lastName     length level                  location method      page  \\\n",
       "0  Harrell  250.82730  paid  Lansing-East Lansing, MI    PUT  NextSong   \n",
       "1  Harrell  241.86730  paid  Lansing-East Lansing, MI    PUT  NextSong   \n",
       "2  Harrell  331.44118  paid  Lansing-East Lansing, MI    PUT  NextSong   \n",
       "3  Harrell  171.04934  paid  Lansing-East Lansing, MI    PUT  NextSong   \n",
       "4  Harrell  235.65016  paid  Lansing-East Lansing, MI    PUT  NextSong   \n",
       "\n",
       "   registration  sessionId                         song  status  \\\n",
       "0  1.540473e+12        293                    Sometimes     200   \n",
       "1  1.540473e+12        293  My Doorbell (Album Version)     200   \n",
       "2  1.540473e+12        293           Panales de Algodon     200   \n",
       "3  1.540473e+12        293                     Restless     200   \n",
       "4  1.540473e+12        293            Begging For Mercy     200   \n",
       "\n",
       "              ts                                          userAgent userId  \n",
       "0  1541548876796  \"Mozilla/5.0 (X11; Linux x86_64) AppleWebKit/5...     97  \n",
       "1  1541549126796  \"Mozilla/5.0 (X11; Linux x86_64) AppleWebKit/5...     97  \n",
       "2  1541549367796  \"Mozilla/5.0 (X11; Linux x86_64) AppleWebKit/5...     97  \n",
       "3  1541549698796  \"Mozilla/5.0 (X11; Linux x86_64) AppleWebKit/5...     97  \n",
       "4  1541549869796  \"Mozilla/5.0 (X11; Linux x86_64) AppleWebKit/5...     97  "
      ]
     },
     "execution_count": 14,
     "metadata": {},
     "output_type": "execute_result"
    }
   ],
   "source": [
    "df = df[df['page'] == 'NextSong']\n",
    "df.head()"
   ]
  },
  {
   "cell_type": "code",
   "execution_count": 15,
   "metadata": {
    "pycharm": {
     "is_executing": true
    }
   },
   "outputs": [
    {
     "data": {
      "text/plain": [
       "0   2018-11-07 00:01:16.796\n",
       "1   2018-11-07 00:05:26.796\n",
       "2   2018-11-07 00:09:27.796\n",
       "3   2018-11-07 00:14:58.796\n",
       "4   2018-11-07 00:17:49.796\n",
       "Name: ts, dtype: datetime64[ns]"
      ]
     },
     "execution_count": 15,
     "metadata": {},
     "output_type": "execute_result"
    }
   ],
   "source": [
    "t = pd.to_datetime(df['ts'], unit='ms')\n",
    "t.head()"
   ]
  },
  {
   "cell_type": "code",
   "execution_count": 16,
   "metadata": {
    "pycharm": {
     "is_executing": true
    }
   },
   "outputs": [
    {
     "data": {
      "text/plain": [
       "[(1541548877, 0, 7, 45, 11, 2018, 'Wednesday'),\n",
       " (1541549127, 0, 7, 45, 11, 2018, 'Wednesday'),\n",
       " (1541549368, 0, 7, 45, 11, 2018, 'Wednesday'),\n",
       " (1541549699, 0, 7, 45, 11, 2018, 'Wednesday'),\n",
       " (1541549870, 0, 7, 45, 11, 2018, 'Wednesday'),\n",
       " (1541550105, 0, 7, 45, 11, 2018, 'Wednesday'),\n",
       " (1541550453, 0, 7, 45, 11, 2018, 'Wednesday'),\n",
       " (1541550481, 0, 7, 45, 11, 2018, 'Wednesday'),\n",
       " (1541550651, 0, 7, 45, 11, 2018, 'Wednesday'),\n",
       " (1541550889, 0, 7, 45, 11, 2018, 'Wednesday'),\n",
       " (1541551084, 0, 7, 45, 11, 2018, 'Wednesday'),\n",
       " (1541551209, 0, 7, 45, 11, 2018, 'Wednesday'),\n",
       " (1541551381, 0, 7, 45, 11, 2018, 'Wednesday'),\n",
       " (1541551562, 0, 7, 45, 11, 2018, 'Wednesday'),\n",
       " (1541551775, 0, 7, 45, 11, 2018, 'Wednesday'),\n",
       " (1541551950, 0, 7, 45, 11, 2018, 'Wednesday'),\n",
       " (1541554285, 1, 7, 45, 11, 2018, 'Wednesday'),\n",
       " (1541554501, 1, 7, 45, 11, 2018, 'Wednesday'),\n",
       " (1541554765, 1, 7, 45, 11, 2018, 'Wednesday'),\n",
       " (1541554964, 1, 7, 45, 11, 2018, 'Wednesday'),\n",
       " (1541555184, 1, 7, 45, 11, 2018, 'Wednesday'),\n",
       " (1541559211, 2, 7, 45, 11, 2018, 'Wednesday'),\n",
       " (1541559387, 2, 7, 45, 11, 2018, 'Wednesday'),\n",
       " (1541559629, 3, 7, 45, 11, 2018, 'Wednesday'),\n",
       " (1541559661, 3, 7, 45, 11, 2018, 'Wednesday'),\n",
       " (1541559809, 3, 7, 45, 11, 2018, 'Wednesday'),\n",
       " (1541560144, 3, 7, 45, 11, 2018, 'Wednesday'),\n",
       " (1541560365, 3, 7, 45, 11, 2018, 'Wednesday'),\n",
       " (1541568475, 5, 7, 45, 11, 2018, 'Wednesday'),\n",
       " (1541568617, 5, 7, 45, 11, 2018, 'Wednesday'),\n",
       " (1541568727, 5, 7, 45, 11, 2018, 'Wednesday'),\n",
       " (1541568932, 5, 7, 45, 11, 2018, 'Wednesday'),\n",
       " (1541569144, 5, 7, 45, 11, 2018, 'Wednesday'),\n",
       " (1541572284, 6, 7, 45, 11, 2018, 'Wednesday'),\n",
       " (1541572644, 6, 7, 45, 11, 2018, 'Wednesday'),\n",
       " (1541572919, 6, 7, 45, 11, 2018, 'Wednesday'),\n",
       " (1541572984, 6, 7, 45, 11, 2018, 'Wednesday'),\n",
       " (1541573132, 6, 7, 45, 11, 2018, 'Wednesday'),\n",
       " (1541577267, 7, 7, 45, 11, 2018, 'Wednesday'),\n",
       " (1541577509, 7, 7, 45, 11, 2018, 'Wednesday'),\n",
       " (1541578088, 8, 7, 45, 11, 2018, 'Wednesday'),\n",
       " (1541583684, 9, 7, 45, 11, 2018, 'Wednesday'),\n",
       " (1541583773, 9, 7, 45, 11, 2018, 'Wednesday'),\n",
       " (1541583928, 9, 7, 45, 11, 2018, 'Wednesday'),\n",
       " (1541584203, 9, 7, 45, 11, 2018, 'Wednesday'),\n",
       " (1541589679, 11, 7, 45, 11, 2018, 'Wednesday'),\n",
       " (1541590662, 11, 7, 45, 11, 2018, 'Wednesday'),\n",
       " (1541590790, 11, 7, 45, 11, 2018, 'Wednesday'),\n",
       " (1541592384, 12, 7, 45, 11, 2018, 'Wednesday'),\n",
       " (1541592571, 12, 7, 45, 11, 2018, 'Wednesday'),\n",
       " (1541596897, 13, 7, 45, 11, 2018, 'Wednesday'),\n",
       " (1541596932, 13, 7, 45, 11, 2018, 'Wednesday'),\n",
       " (1541597171, 13, 7, 45, 11, 2018, 'Wednesday'),\n",
       " (1541597549, 13, 7, 45, 11, 2018, 'Wednesday'),\n",
       " (1541597552, 13, 7, 45, 11, 2018, 'Wednesday'),\n",
       " (1541597744, 13, 7, 45, 11, 2018, 'Wednesday'),\n",
       " (1541597789, 13, 7, 45, 11, 2018, 'Wednesday'),\n",
       " (1541597980, 13, 7, 45, 11, 2018, 'Wednesday'),\n",
       " (1541598040, 13, 7, 45, 11, 2018, 'Wednesday'),\n",
       " (1541598265, 13, 7, 45, 11, 2018, 'Wednesday'),\n",
       " (1541598312, 13, 7, 45, 11, 2018, 'Wednesday'),\n",
       " (1541598438, 13, 7, 45, 11, 2018, 'Wednesday'),\n",
       " (1541598475, 13, 7, 45, 11, 2018, 'Wednesday'),\n",
       " (1541598602, 13, 7, 45, 11, 2018, 'Wednesday'),\n",
       " (1541598790, 13, 7, 45, 11, 2018, 'Wednesday'),\n",
       " (1541598818, 13, 7, 45, 11, 2018, 'Wednesday'),\n",
       " (1541598893, 13, 7, 45, 11, 2018, 'Wednesday'),\n",
       " (1541599002, 13, 7, 45, 11, 2018, 'Wednesday'),\n",
       " (1541599263, 14, 7, 45, 11, 2018, 'Wednesday'),\n",
       " (1541599510, 14, 7, 45, 11, 2018, 'Wednesday'),\n",
       " (1541599831, 14, 7, 45, 11, 2018, 'Wednesday'),\n",
       " (1541600200, 14, 7, 45, 11, 2018, 'Wednesday'),\n",
       " (1541600447, 14, 7, 45, 11, 2018, 'Wednesday'),\n",
       " (1541600607, 14, 7, 45, 11, 2018, 'Wednesday'),\n",
       " (1541600776, 14, 7, 45, 11, 2018, 'Wednesday'),\n",
       " (1541600978, 14, 7, 45, 11, 2018, 'Wednesday'),\n",
       " (1541600988, 14, 7, 45, 11, 2018, 'Wednesday'),\n",
       " (1541601036, 14, 7, 45, 11, 2018, 'Wednesday'),\n",
       " (1541601278, 14, 7, 45, 11, 2018, 'Wednesday'),\n",
       " (1541601357, 14, 7, 45, 11, 2018, 'Wednesday'),\n",
       " (1541601547, 14, 7, 45, 11, 2018, 'Wednesday'),\n",
       " (1541601765, 14, 7, 45, 11, 2018, 'Wednesday'),\n",
       " (1541601982, 14, 7, 45, 11, 2018, 'Wednesday'),\n",
       " (1541602218, 14, 7, 45, 11, 2018, 'Wednesday'),\n",
       " (1541602426, 14, 7, 45, 11, 2018, 'Wednesday'),\n",
       " (1541602628, 14, 7, 45, 11, 2018, 'Wednesday'),\n",
       " (1541602829, 15, 7, 45, 11, 2018, 'Wednesday'),\n",
       " (1541603778, 15, 7, 45, 11, 2018, 'Wednesday'),\n",
       " (1541605019, 15, 7, 45, 11, 2018, 'Wednesday'),\n",
       " (1541605081, 15, 7, 45, 11, 2018, 'Wednesday'),\n",
       " (1541605271, 15, 7, 45, 11, 2018, 'Wednesday'),\n",
       " (1541605460, 15, 7, 45, 11, 2018, 'Wednesday'),\n",
       " (1541605694, 15, 7, 45, 11, 2018, 'Wednesday'),\n",
       " (1541605935, 15, 7, 45, 11, 2018, 'Wednesday'),\n",
       " (1541606209, 15, 7, 45, 11, 2018, 'Wednesday'),\n",
       " (1541606462, 16, 7, 45, 11, 2018, 'Wednesday'),\n",
       " (1541606695, 16, 7, 45, 11, 2018, 'Wednesday'),\n",
       " (1541606915, 16, 7, 45, 11, 2018, 'Wednesday'),\n",
       " (1541607235, 16, 7, 45, 11, 2018, 'Wednesday'),\n",
       " (1541607558, 16, 7, 45, 11, 2018, 'Wednesday'),\n",
       " (1541607814, 16, 7, 45, 11, 2018, 'Wednesday'),\n",
       " (1541608077, 16, 7, 45, 11, 2018, 'Wednesday'),\n",
       " (1541608327, 16, 7, 45, 11, 2018, 'Wednesday'),\n",
       " (1541608583, 16, 7, 45, 11, 2018, 'Wednesday'),\n",
       " (1541608714, 16, 7, 45, 11, 2018, 'Wednesday'),\n",
       " (1541608924, 16, 7, 45, 11, 2018, 'Wednesday'),\n",
       " (1541609135, 16, 7, 45, 11, 2018, 'Wednesday'),\n",
       " (1541609399, 16, 7, 45, 11, 2018, 'Wednesday'),\n",
       " (1541609605, 16, 7, 45, 11, 2018, 'Wednesday'),\n",
       " (1541609826, 16, 7, 45, 11, 2018, 'Wednesday'),\n",
       " (1541610174, 17, 7, 45, 11, 2018, 'Wednesday'),\n",
       " (1541610317, 17, 7, 45, 11, 2018, 'Wednesday'),\n",
       " (1541610338, 17, 7, 45, 11, 2018, 'Wednesday'),\n",
       " (1541610640, 17, 7, 45, 11, 2018, 'Wednesday'),\n",
       " (1541610802, 17, 7, 45, 11, 2018, 'Wednesday'),\n",
       " (1541611268, 17, 7, 45, 11, 2018, 'Wednesday'),\n",
       " (1541611448, 17, 7, 45, 11, 2018, 'Wednesday'),\n",
       " (1541611633, 17, 7, 45, 11, 2018, 'Wednesday'),\n",
       " (1541612066, 17, 7, 45, 11, 2018, 'Wednesday'),\n",
       " (1541612240, 17, 7, 45, 11, 2018, 'Wednesday'),\n",
       " (1541612465, 17, 7, 45, 11, 2018, 'Wednesday'),\n",
       " (1541612640, 17, 7, 45, 11, 2018, 'Wednesday'),\n",
       " (1541612957, 17, 7, 45, 11, 2018, 'Wednesday'),\n",
       " (1541613201, 17, 7, 45, 11, 2018, 'Wednesday'),\n",
       " (1541613430, 17, 7, 45, 11, 2018, 'Wednesday'),\n",
       " (1541613653, 18, 7, 45, 11, 2018, 'Wednesday'),\n",
       " (1541614013, 18, 7, 45, 11, 2018, 'Wednesday'),\n",
       " (1541614272, 18, 7, 45, 11, 2018, 'Wednesday'),\n",
       " (1541614516, 18, 7, 45, 11, 2018, 'Wednesday'),\n",
       " (1541614867, 18, 7, 45, 11, 2018, 'Wednesday'),\n",
       " (1541615126, 18, 7, 45, 11, 2018, 'Wednesday'),\n",
       " (1541615375, 18, 7, 45, 11, 2018, 'Wednesday'),\n",
       " (1541615673, 18, 7, 45, 11, 2018, 'Wednesday'),\n",
       " (1541615805, 18, 7, 45, 11, 2018, 'Wednesday'),\n",
       " (1541615826, 18, 7, 45, 11, 2018, 'Wednesday'),\n",
       " (1541615997, 18, 7, 45, 11, 2018, 'Wednesday'),\n",
       " (1541616106, 18, 7, 45, 11, 2018, 'Wednesday'),\n",
       " (1541616167, 18, 7, 45, 11, 2018, 'Wednesday'),\n",
       " (1541616378, 18, 7, 45, 11, 2018, 'Wednesday'),\n",
       " (1541616567, 18, 7, 45, 11, 2018, 'Wednesday'),\n",
       " (1541616831, 18, 7, 45, 11, 2018, 'Wednesday'),\n",
       " (1541617080, 18, 7, 45, 11, 2018, 'Wednesday'),\n",
       " (1541617643, 19, 7, 45, 11, 2018, 'Wednesday'),\n",
       " (1541618480, 19, 7, 45, 11, 2018, 'Wednesday'),\n",
       " (1541618726, 19, 7, 45, 11, 2018, 'Wednesday'),\n",
       " (1541618923, 19, 7, 45, 11, 2018, 'Wednesday'),\n",
       " (1541619153, 19, 7, 45, 11, 2018, 'Wednesday'),\n",
       " (1541619406, 19, 7, 45, 11, 2018, 'Wednesday'),\n",
       " (1541619626, 19, 7, 45, 11, 2018, 'Wednesday'),\n",
       " (1541619874, 19, 7, 45, 11, 2018, 'Wednesday'),\n",
       " (1541620112, 19, 7, 45, 11, 2018, 'Wednesday'),\n",
       " (1541620378, 19, 7, 45, 11, 2018, 'Wednesday'),\n",
       " (1541620644, 19, 7, 45, 11, 2018, 'Wednesday'),\n",
       " (1541620883, 20, 7, 45, 11, 2018, 'Wednesday'),\n",
       " (1541621084, 20, 7, 45, 11, 2018, 'Wednesday'),\n",
       " (1541621319, 20, 7, 45, 11, 2018, 'Wednesday'),\n",
       " (1541621347, 20, 7, 45, 11, 2018, 'Wednesday'),\n",
       " (1541621425, 20, 7, 45, 11, 2018, 'Wednesday'),\n",
       " (1541621585, 20, 7, 45, 11, 2018, 'Wednesday'),\n",
       " (1541621996, 20, 7, 45, 11, 2018, 'Wednesday'),\n",
       " (1541622170, 20, 7, 45, 11, 2018, 'Wednesday'),\n",
       " (1541622417, 20, 7, 45, 11, 2018, 'Wednesday'),\n",
       " (1541622631, 20, 7, 45, 11, 2018, 'Wednesday'),\n",
       " (1541622829, 20, 7, 45, 11, 2018, 'Wednesday'),\n",
       " (1541623124, 20, 7, 45, 11, 2018, 'Wednesday'),\n",
       " (1541623441, 20, 7, 45, 11, 2018, 'Wednesday'),\n",
       " (1541623632, 20, 7, 45, 11, 2018, 'Wednesday'),\n",
       " (1541624289, 20, 7, 45, 11, 2018, 'Wednesday'),\n",
       " (1541624507, 21, 7, 45, 11, 2018, 'Wednesday'),\n",
       " (1541624755, 21, 7, 45, 11, 2018, 'Wednesday'),\n",
       " (1541629615, 22, 7, 45, 11, 2018, 'Wednesday'),\n",
       " (1541629965, 22, 7, 45, 11, 2018, 'Wednesday'),\n",
       " (1541632357, 23, 7, 45, 11, 2018, 'Wednesday'),\n",
       " (1541632590, 23, 7, 45, 11, 2018, 'Wednesday')]"
      ]
     },
     "execution_count": 16,
     "metadata": {},
     "output_type": "execute_result"
    }
   ],
   "source": [
    "time_data = [(round(dt.timestamp()), dt.hour, dt.day, dt.week, dt.month, dt.year, dt.day_name()) for dt in t]\n",
    "column_labels = ('timestamp', 'hour', 'day', 'week', 'month', 'year', 'weekday')\n",
    "time_data"
   ]
  },
  {
   "cell_type": "code",
   "execution_count": 17,
   "metadata": {
    "pycharm": {
     "is_executing": true
    }
   },
   "outputs": [
    {
     "data": {
      "text/html": [
       "<div>\n",
       "<style scoped>\n",
       "    .dataframe tbody tr th:only-of-type {\n",
       "        vertical-align: middle;\n",
       "    }\n",
       "\n",
       "    .dataframe tbody tr th {\n",
       "        vertical-align: top;\n",
       "    }\n",
       "\n",
       "    .dataframe thead th {\n",
       "        text-align: right;\n",
       "    }\n",
       "</style>\n",
       "<table border=\"1\" class=\"dataframe\">\n",
       "  <thead>\n",
       "    <tr style=\"text-align: right;\">\n",
       "      <th></th>\n",
       "      <th>timestamp</th>\n",
       "      <th>hour</th>\n",
       "      <th>day</th>\n",
       "      <th>week</th>\n",
       "      <th>month</th>\n",
       "      <th>year</th>\n",
       "      <th>weekday</th>\n",
       "    </tr>\n",
       "  </thead>\n",
       "  <tbody>\n",
       "    <tr>\n",
       "      <th>0</th>\n",
       "      <td>1541548877</td>\n",
       "      <td>0</td>\n",
       "      <td>7</td>\n",
       "      <td>45</td>\n",
       "      <td>11</td>\n",
       "      <td>2018</td>\n",
       "      <td>Wednesday</td>\n",
       "    </tr>\n",
       "    <tr>\n",
       "      <th>1</th>\n",
       "      <td>1541549127</td>\n",
       "      <td>0</td>\n",
       "      <td>7</td>\n",
       "      <td>45</td>\n",
       "      <td>11</td>\n",
       "      <td>2018</td>\n",
       "      <td>Wednesday</td>\n",
       "    </tr>\n",
       "    <tr>\n",
       "      <th>2</th>\n",
       "      <td>1541549368</td>\n",
       "      <td>0</td>\n",
       "      <td>7</td>\n",
       "      <td>45</td>\n",
       "      <td>11</td>\n",
       "      <td>2018</td>\n",
       "      <td>Wednesday</td>\n",
       "    </tr>\n",
       "    <tr>\n",
       "      <th>3</th>\n",
       "      <td>1541549699</td>\n",
       "      <td>0</td>\n",
       "      <td>7</td>\n",
       "      <td>45</td>\n",
       "      <td>11</td>\n",
       "      <td>2018</td>\n",
       "      <td>Wednesday</td>\n",
       "    </tr>\n",
       "    <tr>\n",
       "      <th>4</th>\n",
       "      <td>1541549870</td>\n",
       "      <td>0</td>\n",
       "      <td>7</td>\n",
       "      <td>45</td>\n",
       "      <td>11</td>\n",
       "      <td>2018</td>\n",
       "      <td>Wednesday</td>\n",
       "    </tr>\n",
       "    <tr>\n",
       "      <th>...</th>\n",
       "      <td>...</td>\n",
       "      <td>...</td>\n",
       "      <td>...</td>\n",
       "      <td>...</td>\n",
       "      <td>...</td>\n",
       "      <td>...</td>\n",
       "      <td>...</td>\n",
       "    </tr>\n",
       "    <tr>\n",
       "      <th>169</th>\n",
       "      <td>1541624755</td>\n",
       "      <td>21</td>\n",
       "      <td>7</td>\n",
       "      <td>45</td>\n",
       "      <td>11</td>\n",
       "      <td>2018</td>\n",
       "      <td>Wednesday</td>\n",
       "    </tr>\n",
       "    <tr>\n",
       "      <th>170</th>\n",
       "      <td>1541629615</td>\n",
       "      <td>22</td>\n",
       "      <td>7</td>\n",
       "      <td>45</td>\n",
       "      <td>11</td>\n",
       "      <td>2018</td>\n",
       "      <td>Wednesday</td>\n",
       "    </tr>\n",
       "    <tr>\n",
       "      <th>171</th>\n",
       "      <td>1541629965</td>\n",
       "      <td>22</td>\n",
       "      <td>7</td>\n",
       "      <td>45</td>\n",
       "      <td>11</td>\n",
       "      <td>2018</td>\n",
       "      <td>Wednesday</td>\n",
       "    </tr>\n",
       "    <tr>\n",
       "      <th>172</th>\n",
       "      <td>1541632357</td>\n",
       "      <td>23</td>\n",
       "      <td>7</td>\n",
       "      <td>45</td>\n",
       "      <td>11</td>\n",
       "      <td>2018</td>\n",
       "      <td>Wednesday</td>\n",
       "    </tr>\n",
       "    <tr>\n",
       "      <th>173</th>\n",
       "      <td>1541632590</td>\n",
       "      <td>23</td>\n",
       "      <td>7</td>\n",
       "      <td>45</td>\n",
       "      <td>11</td>\n",
       "      <td>2018</td>\n",
       "      <td>Wednesday</td>\n",
       "    </tr>\n",
       "  </tbody>\n",
       "</table>\n",
       "<p>174 rows × 7 columns</p>\n",
       "</div>"
      ],
      "text/plain": [
       "      timestamp  hour  day  week  month  year    weekday\n",
       "0    1541548877     0    7    45     11  2018  Wednesday\n",
       "1    1541549127     0    7    45     11  2018  Wednesday\n",
       "2    1541549368     0    7    45     11  2018  Wednesday\n",
       "3    1541549699     0    7    45     11  2018  Wednesday\n",
       "4    1541549870     0    7    45     11  2018  Wednesday\n",
       "..          ...   ...  ...   ...    ...   ...        ...\n",
       "169  1541624755    21    7    45     11  2018  Wednesday\n",
       "170  1541629615    22    7    45     11  2018  Wednesday\n",
       "171  1541629965    22    7    45     11  2018  Wednesday\n",
       "172  1541632357    23    7    45     11  2018  Wednesday\n",
       "173  1541632590    23    7    45     11  2018  Wednesday\n",
       "\n",
       "[174 rows x 7 columns]"
      ]
     },
     "execution_count": 17,
     "metadata": {},
     "output_type": "execute_result"
    }
   ],
   "source": [
    "time_df = pd.DataFrame(time_data, columns=column_labels)\n",
    "time_df"
   ]
  },
  {
   "cell_type": "markdown",
   "metadata": {},
   "source": [
    "#### Insert Records into Time Table\n",
    "Implement the `time_table_insert` query in `sql_queries.py` and run the cell below to insert records for the timestamps in this log file into the `time` table. Remember to run `create_tables.py` before running the cell below to ensure you've created/resetted the `time` table in the sparkify database."
   ]
  },
  {
   "cell_type": "code",
   "execution_count": 18,
   "metadata": {
    "pycharm": {
     "is_executing": true
    }
   },
   "outputs": [],
   "source": [
    "for i, row in time_df.iterrows():\n",
    "    cur.execute(time_table_insert, tuple(row))\n",
    "    conn.commit()"
   ]
  },
  {
   "cell_type": "markdown",
   "metadata": {},
   "source": [
    "Run `test.ipynb` to see if you've successfully added records to this table."
   ]
  },
  {
   "cell_type": "markdown",
   "metadata": {},
   "source": [
    "## #4: `users` Table\n",
    "#### Extract Data for Users Table\n",
    "- Select columns for user ID, first name, last name, gender and level and set to `user_df`"
   ]
  },
  {
   "cell_type": "code",
   "execution_count": 19,
   "metadata": {
    "pycharm": {
     "is_executing": true
    }
   },
   "outputs": [
    {
     "data": {
      "text/html": [
       "<div>\n",
       "<style scoped>\n",
       "    .dataframe tbody tr th:only-of-type {\n",
       "        vertical-align: middle;\n",
       "    }\n",
       "\n",
       "    .dataframe tbody tr th {\n",
       "        vertical-align: top;\n",
       "    }\n",
       "\n",
       "    .dataframe thead th {\n",
       "        text-align: right;\n",
       "    }\n",
       "</style>\n",
       "<table border=\"1\" class=\"dataframe\">\n",
       "  <thead>\n",
       "    <tr style=\"text-align: right;\">\n",
       "      <th></th>\n",
       "      <th>userId</th>\n",
       "      <th>firstName</th>\n",
       "      <th>lastName</th>\n",
       "      <th>gender</th>\n",
       "      <th>level</th>\n",
       "    </tr>\n",
       "  </thead>\n",
       "  <tbody>\n",
       "    <tr>\n",
       "      <th>0</th>\n",
       "      <td>97</td>\n",
       "      <td>Kate</td>\n",
       "      <td>Harrell</td>\n",
       "      <td>F</td>\n",
       "      <td>paid</td>\n",
       "    </tr>\n",
       "    <tr>\n",
       "      <th>7</th>\n",
       "      <td>63</td>\n",
       "      <td>Ayla</td>\n",
       "      <td>Johnson</td>\n",
       "      <td>F</td>\n",
       "      <td>free</td>\n",
       "    </tr>\n",
       "    <tr>\n",
       "      <th>20</th>\n",
       "      <td>8</td>\n",
       "      <td>Kaylee</td>\n",
       "      <td>Summers</td>\n",
       "      <td>F</td>\n",
       "      <td>free</td>\n",
       "    </tr>\n",
       "    <tr>\n",
       "      <th>25</th>\n",
       "      <td>9</td>\n",
       "      <td>Wyatt</td>\n",
       "      <td>Scott</td>\n",
       "      <td>M</td>\n",
       "      <td>free</td>\n",
       "    </tr>\n",
       "    <tr>\n",
       "      <th>28</th>\n",
       "      <td>89</td>\n",
       "      <td>Kynnedi</td>\n",
       "      <td>Sanchez</td>\n",
       "      <td>F</td>\n",
       "      <td>free</td>\n",
       "    </tr>\n",
       "    <tr>\n",
       "      <th>33</th>\n",
       "      <td>50</td>\n",
       "      <td>Ava</td>\n",
       "      <td>Robinson</td>\n",
       "      <td>F</td>\n",
       "      <td>free</td>\n",
       "    </tr>\n",
       "    <tr>\n",
       "      <th>34</th>\n",
       "      <td>101</td>\n",
       "      <td>Jayden</td>\n",
       "      <td>Fox</td>\n",
       "      <td>M</td>\n",
       "      <td>free</td>\n",
       "    </tr>\n",
       "    <tr>\n",
       "      <th>40</th>\n",
       "      <td>14</td>\n",
       "      <td>Theodore</td>\n",
       "      <td>Harris</td>\n",
       "      <td>M</td>\n",
       "      <td>free</td>\n",
       "    </tr>\n",
       "    <tr>\n",
       "      <th>44</th>\n",
       "      <td>10</td>\n",
       "      <td>Sylvie</td>\n",
       "      <td>Cruz</td>\n",
       "      <td>F</td>\n",
       "      <td>free</td>\n",
       "    </tr>\n",
       "    <tr>\n",
       "      <th>46</th>\n",
       "      <td>100</td>\n",
       "      <td>Adler</td>\n",
       "      <td>Barrera</td>\n",
       "      <td>M</td>\n",
       "      <td>free</td>\n",
       "    </tr>\n",
       "    <tr>\n",
       "      <th>49</th>\n",
       "      <td>80</td>\n",
       "      <td>Tegan</td>\n",
       "      <td>Levine</td>\n",
       "      <td>F</td>\n",
       "      <td>free</td>\n",
       "    </tr>\n",
       "    <tr>\n",
       "      <th>55</th>\n",
       "      <td>86</td>\n",
       "      <td>Aiden</td>\n",
       "      <td>Hess</td>\n",
       "      <td>M</td>\n",
       "      <td>free</td>\n",
       "    </tr>\n",
       "    <tr>\n",
       "      <th>61</th>\n",
       "      <td>66</td>\n",
       "      <td>Kevin</td>\n",
       "      <td>Arellano</td>\n",
       "      <td>M</td>\n",
       "      <td>free</td>\n",
       "    </tr>\n",
       "    <tr>\n",
       "      <th>65</th>\n",
       "      <td>44</td>\n",
       "      <td>Aleena</td>\n",
       "      <td>Kirby</td>\n",
       "      <td>F</td>\n",
       "      <td>paid</td>\n",
       "    </tr>\n",
       "    <tr>\n",
       "      <th>66</th>\n",
       "      <td>15</td>\n",
       "      <td>Lily</td>\n",
       "      <td>Koch</td>\n",
       "      <td>F</td>\n",
       "      <td>paid</td>\n",
       "    </tr>\n",
       "    <tr>\n",
       "      <th>85</th>\n",
       "      <td>23</td>\n",
       "      <td>Morris</td>\n",
       "      <td>Gilmore</td>\n",
       "      <td>M</td>\n",
       "      <td>free</td>\n",
       "    </tr>\n",
       "    <tr>\n",
       "      <th>92</th>\n",
       "      <td>29</td>\n",
       "      <td>Jacqueline</td>\n",
       "      <td>Lynch</td>\n",
       "      <td>F</td>\n",
       "      <td>free</td>\n",
       "    </tr>\n",
       "    <tr>\n",
       "      <th>97</th>\n",
       "      <td>84</td>\n",
       "      <td>Shakira</td>\n",
       "      <td>Hunt</td>\n",
       "      <td>F</td>\n",
       "      <td>free</td>\n",
       "    </tr>\n",
       "    <tr>\n",
       "      <th>108</th>\n",
       "      <td>2</td>\n",
       "      <td>Jizelle</td>\n",
       "      <td>Benjamin</td>\n",
       "      <td>F</td>\n",
       "      <td>free</td>\n",
       "    </tr>\n",
       "    <tr>\n",
       "      <th>111</th>\n",
       "      <td>26</td>\n",
       "      <td>Ryan</td>\n",
       "      <td>Smith</td>\n",
       "      <td>M</td>\n",
       "      <td>free</td>\n",
       "    </tr>\n",
       "    <tr>\n",
       "      <th>158</th>\n",
       "      <td>33</td>\n",
       "      <td>Bronson</td>\n",
       "      <td>Harris</td>\n",
       "      <td>M</td>\n",
       "      <td>free</td>\n",
       "    </tr>\n",
       "    <tr>\n",
       "      <th>167</th>\n",
       "      <td>52</td>\n",
       "      <td>Theodore</td>\n",
       "      <td>Smith</td>\n",
       "      <td>M</td>\n",
       "      <td>free</td>\n",
       "    </tr>\n",
       "    <tr>\n",
       "      <th>198</th>\n",
       "      <td>32</td>\n",
       "      <td>Lily</td>\n",
       "      <td>Burns</td>\n",
       "      <td>F</td>\n",
       "      <td>free</td>\n",
       "    </tr>\n",
       "    <tr>\n",
       "      <th>200</th>\n",
       "      <td>54</td>\n",
       "      <td>Kaleb</td>\n",
       "      <td>Cook</td>\n",
       "      <td>M</td>\n",
       "      <td>free</td>\n",
       "    </tr>\n",
       "  </tbody>\n",
       "</table>\n",
       "</div>"
      ],
      "text/plain": [
       "    userId   firstName  lastName gender level\n",
       "0       97        Kate   Harrell      F  paid\n",
       "7       63        Ayla   Johnson      F  free\n",
       "20       8      Kaylee   Summers      F  free\n",
       "25       9       Wyatt     Scott      M  free\n",
       "28      89     Kynnedi   Sanchez      F  free\n",
       "33      50         Ava  Robinson      F  free\n",
       "34     101      Jayden       Fox      M  free\n",
       "40      14    Theodore    Harris      M  free\n",
       "44      10      Sylvie      Cruz      F  free\n",
       "46     100       Adler   Barrera      M  free\n",
       "49      80       Tegan    Levine      F  free\n",
       "55      86       Aiden      Hess      M  free\n",
       "61      66       Kevin  Arellano      M  free\n",
       "65      44      Aleena     Kirby      F  paid\n",
       "66      15        Lily      Koch      F  paid\n",
       "85      23      Morris   Gilmore      M  free\n",
       "92      29  Jacqueline     Lynch      F  free\n",
       "97      84     Shakira      Hunt      F  free\n",
       "108      2     Jizelle  Benjamin      F  free\n",
       "111     26        Ryan     Smith      M  free\n",
       "158     33     Bronson    Harris      M  free\n",
       "167     52    Theodore     Smith      M  free\n",
       "198     32        Lily     Burns      F  free\n",
       "200     54       Kaleb      Cook      M  free"
      ]
     },
     "execution_count": 19,
     "metadata": {},
     "output_type": "execute_result"
    }
   ],
   "source": [
    "user_df = df[['userId', 'firstName', 'lastName', 'gender', 'level']]\n",
    "user_df = user_df[user_df['userId'].astype(bool)]\n",
    "user_df = user_df.drop_duplicates(subset='userId')\n",
    "user_df"
   ]
  },
  {
   "cell_type": "markdown",
   "metadata": {},
   "source": [
    "#### Insert Records into Users Table\n",
    "Implement the `user_table_insert` query in `sql_queries.py` and run the cell below to insert records for the users in this log file into the `users` table. Remember to run `create_tables.py` before running the cell below to ensure you've created/resetted the `users` table in the sparkify database."
   ]
  },
  {
   "cell_type": "code",
   "execution_count": 20,
   "metadata": {
    "pycharm": {
     "is_executing": true
    }
   },
   "outputs": [],
   "source": [
    "for i, row in user_df.iterrows():\n",
    "    cur.execute(user_table_insert, row)\n",
    "    conn.commit()"
   ]
  },
  {
   "cell_type": "markdown",
   "metadata": {},
   "source": [
    "Run `test.ipynb` to see if you've successfully added records to this table."
   ]
  },
  {
   "cell_type": "markdown",
   "metadata": {},
   "source": [
    "## #5: `songplays` Table\n",
    "#### Extract Data and Songplays Table\n",
    "This one is a little more complicated since information from the songs table, artists table, and original log file are all needed for the `songplays` table. Since the log file does not specify an ID for either the song or the artist, you'll need to get the song ID and artist ID by querying the songs and artists tables to find matches based on song title, artist name, and song duration time.\n",
    "- Implement the `song_select` query in `sql_queries.py` to find the song ID and artist ID based on the title, artist name, and duration of a song.\n",
    "- Select the timestamp, user ID, level, song ID, artist ID, session ID, location, and user agent and set to `songplay_data`\n",
    "\n",
    "#### Insert Records into Songplays Table\n",
    "- Implement the `songplay_table_insert` query and run the cell below to insert records for the songplay actions in this log file into the `songplays` table. Remember to run `create_tables.py` before running the cell below to ensure you've created/resetted the `songplays` table in the sparkify database."
   ]
  },
  {
   "cell_type": "code",
   "execution_count": null,
   "metadata": {
    "pycharm": {
     "is_executing": true
    }
   },
   "outputs": [],
   "source": [
    "# insert songplay records\n",
    "for index, row in df.iterrows():\n",
    "    # get song_id and artist_id from song and artist tables\n",
    "    cur.execute(song_select, (row.song, row.artist, round(row.length)))\n",
    "    result = cur.fetchone()\n",
    "    (song_id, artist_id) = (result if result else (None, None))\n",
    "\n",
    "    # uncomment if we only want records with valid song_id and artist_id\n",
    "    # if song_id is None or artist_id is None:\n",
    "    #     continue\n",
    "\n",
    "    # insert songplay record\n",
    "    songplay_data = (round(row.ts / 1000.0), row.userId, row.level, song_id, \\\n",
    "                     artist_id, row.sessionId, row.location, row.userAgent)\n",
    "    cur.execute(songplay_table_insert, songplay_data)"
   ]
  },
  {
   "cell_type": "markdown",
   "metadata": {},
   "source": [
    "Run `test.ipynb` to see if you've successfully added records to this table."
   ]
  },
  {
   "cell_type": "markdown",
   "metadata": {},
   "source": [
    "# Close Connection to Sparkify Database"
   ]
  },
  {
   "cell_type": "code",
   "execution_count": null,
   "metadata": {
    "pycharm": {
     "is_executing": true
    }
   },
   "outputs": [],
   "source": [
    "conn.close()"
   ]
  },
  {
   "cell_type": "markdown",
   "metadata": {},
   "source": [
    "# Implement `etl.py`\n",
    "Use what you've completed in this notebook to implement `etl.py`."
   ]
  }
 ],
 "metadata": {
  "kernelspec": {
   "display_name": "Python 3",
   "language": "python",
   "name": "python3"
  },
  "language_info": {
   "codemirror_mode": {
    "name": "ipython",
    "version": 3
   },
   "file_extension": ".py",
   "mimetype": "text/x-python",
   "name": "python",
   "nbconvert_exporter": "python",
   "pygments_lexer": "ipython3",
   "version": "3.7.5"
  },
  "pycharm": {
   "stem_cell": {
    "cell_type": "raw",
    "metadata": {
     "collapsed": false
    },
    "source": []
   }
  }
 },
 "nbformat": 4,
 "nbformat_minor": 2
}
